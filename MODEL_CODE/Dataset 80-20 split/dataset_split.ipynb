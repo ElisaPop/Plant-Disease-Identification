{
 "cells": [
  {
   "cell_type": "code",
   "execution_count": 1,
   "id": "366b59e4",
   "metadata": {},
   "outputs": [],
   "source": [
    "import os, shutil\n",
    "\n",
    "ALL_DIR = \"C:\\\\Users\\\\elisa\\\\Desktop\\\\License_conda\\\\alternative_dataset\\\\all\"\n",
    "TRAIN_DIR = \"C:\\\\Users\\\\elisa\\\\Desktop\\\\License_conda\\\\alternative_dataset\\\\train\"\n",
    "VALIDATION_DIR = \"C:\\\\Users\\\\elisa\\\\Desktop\\\\License_conda\\\\alternative_dataset\\\\validation\""
   ]
  },
  {
   "cell_type": "code",
   "execution_count": 2,
   "id": "119124e9",
   "metadata": {
    "scrolled": true
   },
   "outputs": [
    {
     "data": {
      "text/plain": [
       "0"
      ]
     },
     "execution_count": 2,
     "metadata": {},
     "output_type": "execute_result"
    }
   ],
   "source": [
    "#test to see if it's working\n",
    "os.chdir(TRAIN_DIR)\n",
    "os.system('mkdir ' + 'a')"
   ]
  },
  {
   "cell_type": "code",
   "execution_count": 3,
   "id": "15bec072",
   "metadata": {},
   "outputs": [],
   "source": [
    "def list_files(startpath):\n",
    "    for root, dirs, files in os.walk(startpath):\n",
    "        level = root.replace(startpath, '').count(os.sep)\n",
    "        indent = ' ' * 4 * (level)\n",
    "        print('{}{}/'.format(indent, os.path.basename(root)))\n",
    "        subindent = ' ' * 4 * (level + 1)"
   ]
  },
  {
   "cell_type": "code",
   "execution_count": 4,
   "id": "dbd51d1d",
   "metadata": {},
   "outputs": [
    {
     "name": "stdout",
     "output_type": "stream",
     "text": [
      "all/\n",
      "    Apple Black rot/\n",
      "    Apple Healthy/\n",
      "    Apple Scab/\n",
      "    Blueberry Healthy/\n",
      "    Cassava Bacterial blight/\n",
      "    Cassava Brown streak disease/\n",
      "    Cassava Green mottle/\n",
      "    Cassava Healthy/\n",
      "    Cassava Mosaic disease/\n",
      "    Cedar apple rust/\n",
      "    Cherry Healthy/\n",
      "    Cherry Powdery mildew/\n",
      "    Citrus Black spot/\n",
      "    Citrus Canker/\n",
      "    Citrus Greening/\n",
      "    Citrus Healthy/\n",
      "    Corn Common rust/\n",
      "    Corn Gray leaf spot/\n",
      "    Corn Healthy/\n",
      "    Corn Northern Leaf Blight/\n",
      "    Grape Black measles/\n",
      "    Grape Black rot/\n",
      "    Grape Healthy/\n",
      "    Grape Isariopsis leaf spot/\n",
      "    Peach Bacterial spot/\n",
      "    Peach Healthy/\n",
      "    Pepper Bacterial spot/\n",
      "    Pepper Healthy/\n",
      "    Potato Early blight/\n",
      "    Potato Healthy/\n",
      "    Potato Late blight/\n",
      "    Raspberry Healthy/\n",
      "    Soybean Healthy/\n",
      "    Squash Powdery mildew/\n",
      "    Strawberry Healthy/\n",
      "    Strawberry Leaf scorch/\n",
      "    Tomato Bacterial spot/\n",
      "    Tomato Early blight/\n",
      "    Tomato Healthy/\n",
      "    Tomato Late blight/\n",
      "    Tomato Leaf mold/\n",
      "    Tomato Mosaic virus/\n",
      "    Tomato Septoria leaf spot/\n",
      "    Tomato Spider mites/\n",
      "    Tomato Target spot/\n",
      "    Tomato Yellow leaf curl virus/\n"
     ]
    }
   ],
   "source": [
    "list_files(ALL_DIR)"
   ]
  },
  {
   "cell_type": "code",
   "execution_count": 8,
   "id": "0d7c5b46",
   "metadata": {},
   "outputs": [
    {
     "ename": "FileNotFoundError",
     "evalue": "[WinError 2] The system cannot find the file specified: 'C:\\\\Users\\\\elisa\\\\Desktop\\\\License_conda\\\\alternative_dataset\\\\validation\\\\Apple Black rot\\\\0090d05d-d797-4c99-abd4-3b9cb323a5fd___JR_FrgE.S 8727.JPG'",
     "output_type": "error",
     "traceback": [
      "\u001b[1;31m---------------------------------------------------------------------------\u001b[0m",
      "\u001b[1;31mFileNotFoundError\u001b[0m                         Traceback (most recent call last)",
      "\u001b[1;32m<ipython-input-8-2f1e671bd716>\u001b[0m in \u001b[0;36m<module>\u001b[1;34m\u001b[0m\n\u001b[0;32m      9\u001b[0m     \u001b[1;31m#splitting 80-20\u001b[0m\u001b[1;33m\u001b[0m\u001b[1;33m\u001b[0m\u001b[1;33m\u001b[0m\u001b[0m\n\u001b[0;32m     10\u001b[0m         \u001b[1;32mif\u001b[0m \u001b[0mcnt\u001b[0m \u001b[1;33m%\u001b[0m \u001b[1;36m10\u001b[0m \u001b[1;33m<\u001b[0m \u001b[1;36m8\u001b[0m\u001b[1;33m:\u001b[0m\u001b[1;33m\u001b[0m\u001b[1;33m\u001b[0m\u001b[0m\n\u001b[1;32m---> 11\u001b[1;33m             \u001b[0mos\u001b[0m\u001b[1;33m.\u001b[0m\u001b[0mremove\u001b[0m\u001b[1;33m(\u001b[0m\u001b[0mVALIDATION_DIR\u001b[0m \u001b[1;33m+\u001b[0m \u001b[1;34m\"\\\\\"\u001b[0m \u001b[1;33m+\u001b[0m \u001b[0mentry\u001b[0m \u001b[1;33m+\u001b[0m \u001b[1;34m\"\\\\\"\u001b[0m \u001b[1;33m+\u001b[0m \u001b[0mimg\u001b[0m\u001b[1;33m)\u001b[0m\u001b[1;33m\u001b[0m\u001b[1;33m\u001b[0m\u001b[0m\n\u001b[0m\u001b[0;32m     12\u001b[0m             \u001b[1;31m#shutil.copyfile(ALL_DIR + \"\\\\\" + entry + \"\\\\\" + disease + \"\\\\\" + img,\u001b[0m\u001b[1;33m\u001b[0m\u001b[1;33m\u001b[0m\u001b[1;33m\u001b[0m\u001b[0m\n\u001b[0;32m     13\u001b[0m             \u001b[1;31m#           TRAIN_DIR + \"\\\\\" + entry + \"\\\\\" + disease + \"\\\\\" + img)\u001b[0m\u001b[1;33m\u001b[0m\u001b[1;33m\u001b[0m\u001b[1;33m\u001b[0m\u001b[0m\n",
      "\u001b[1;31mFileNotFoundError\u001b[0m: [WinError 2] The system cannot find the file specified: 'C:\\\\Users\\\\elisa\\\\Desktop\\\\License_conda\\\\alternative_dataset\\\\validation\\\\Apple Black rot\\\\0090d05d-d797-4c99-abd4-3b9cb323a5fd___JR_FrgE.S 8727.JPG'"
     ]
    }
   ],
   "source": [
    "plant_dirs = os.listdir(ALL_DIR)\n",
    "\n",
    "for entry in plant_dirs:\n",
    "    entries = os.listdir(ALL_DIR+\"\\\\\"+entry)\n",
    "    cnt = 0\n",
    "    imgs = os.listdir(ALL_DIR + \"\\\\\" + entry)\n",
    "    \n",
    "    for img in imgs:\n",
    "    #splitting 80-20\n",
    "        if cnt % 10 < 8:\n",
    "            os.remove(VALIDATION_DIR + \"\\\\\" + entry + \"\\\\\" + img)\n",
    "        else:\n",
    "            os.remove(TRAIN_DIR + \"\\\\\" + entry + \"\\\\\" + img)\n",
    "        cnt = cnt + 1\n",
    "    "
   ]
  },
  {
   "cell_type": "code",
   "execution_count": 5,
   "id": "4770df7c",
   "metadata": {},
   "outputs": [
    {
     "ename": "NameError",
     "evalue": "name 'plant_dirs' is not defined",
     "output_type": "error",
     "traceback": [
      "\u001b[1;31m---------------------------------------------------------------------------\u001b[0m",
      "\u001b[1;31mNameError\u001b[0m                                 Traceback (most recent call last)",
      "\u001b[1;32m<ipython-input-5-8ee0ca9ed112>\u001b[0m in \u001b[0;36m<module>\u001b[1;34m\u001b[0m\n\u001b[0;32m      1\u001b[0m \u001b[0mvalid\u001b[0m \u001b[1;33m=\u001b[0m \u001b[1;36m1\u001b[0m\u001b[1;33m\u001b[0m\u001b[1;33m\u001b[0m\u001b[0m\n\u001b[1;32m----> 2\u001b[1;33m \u001b[1;32mfor\u001b[0m \u001b[0mentry\u001b[0m \u001b[1;32min\u001b[0m \u001b[0mplant_dirs\u001b[0m\u001b[1;33m:\u001b[0m\u001b[1;33m\u001b[0m\u001b[1;33m\u001b[0m\u001b[0m\n\u001b[0m\u001b[0;32m      3\u001b[0m \u001b[1;33m\u001b[0m\u001b[0m\n\u001b[0;32m      4\u001b[0m     \u001b[0mimgs\u001b[0m \u001b[1;33m=\u001b[0m \u001b[0mos\u001b[0m\u001b[1;33m.\u001b[0m\u001b[0mlistdir\u001b[0m\u001b[1;33m(\u001b[0m\u001b[0mALL_DIR\u001b[0m \u001b[1;33m+\u001b[0m \u001b[1;34m\"\\\\\"\u001b[0m \u001b[1;33m+\u001b[0m \u001b[0mentry\u001b[0m \u001b[1;33m)\u001b[0m\u001b[1;33m\u001b[0m\u001b[1;33m\u001b[0m\u001b[0m\n\u001b[0;32m      5\u001b[0m     \u001b[0mimgs_train\u001b[0m \u001b[1;33m=\u001b[0m \u001b[0mos\u001b[0m\u001b[1;33m.\u001b[0m\u001b[0mlistdir\u001b[0m\u001b[1;33m(\u001b[0m\u001b[0mTRAIN_DIR\u001b[0m \u001b[1;33m+\u001b[0m \u001b[1;34m\"\\\\\"\u001b[0m \u001b[1;33m+\u001b[0m \u001b[0mentry\u001b[0m\u001b[1;33m)\u001b[0m\u001b[1;33m\u001b[0m\u001b[1;33m\u001b[0m\u001b[0m\n",
      "\u001b[1;31mNameError\u001b[0m: name 'plant_dirs' is not defined"
     ]
    }
   ],
   "source": [
    "valid = 1\n",
    "for entry in plant_dirs:\n",
    "        \n",
    "    imgs = os.listdir(ALL_DIR + \"\\\\\" + entry )\n",
    "    imgs_train = os.listdir(TRAIN_DIR + \"\\\\\" + entry)\n",
    "    imgs_validation = os.listdir(VALIDATION_DIR + \"\\\\\" + entry)\n",
    "        \n",
    "    total = len(imgs_train) + len(imgs_validation)\n",
    "    \n",
    "    if len(imgs) != total :\n",
    "        valid = 0\n",
    "\n",
    "print(valid)"
   ]
  }
 ],
 "metadata": {
  "kernelspec": {
   "display_name": "Python 3",
   "language": "python",
   "name": "python3"
  },
  "language_info": {
   "codemirror_mode": {
    "name": "ipython",
    "version": 3
   },
   "file_extension": ".py",
   "mimetype": "text/x-python",
   "name": "python",
   "nbconvert_exporter": "python",
   "pygments_lexer": "ipython3",
   "version": "3.8.10"
  }
 },
 "nbformat": 4,
 "nbformat_minor": 5
}
